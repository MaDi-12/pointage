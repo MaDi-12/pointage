{
 "cells": [
  {
   "cell_type": "markdown",
   "id": "54ebabe5",
   "metadata": {},
   "source": [
    "# Table des Matieres\n",
    "\n",
    "- [Rapport d'Analyse des Donnees de Pointage](#rapport-danalyse-des-donnees-de-pointage)\n",
    "- [Introduction](#introduction)\n",
    "- [Analyse des Absences](#analyse-des-absences)\n",
    "- [Repartition Globale des Types de Journee](#repartition-globale-des-types-de-journee)\n",
    "- [Analyse des Retards](#analyse-des-retards)\n",
    "- [Tendance Mensuelle des Presences et Retards](#tendance-mensuelle-des-presences-et-retards)\n",
    "- [Classement Complet des Employes Base sur les Retards](#classement-complet-des-employes-base-sur-les-retards)\n",
    "- [Classement Complet des Employes Base sur les Absences](#classement-complet-des-employes-base-sur-les-absences)\n",
    "- [Liste des Employes Pointant Apres 8h](#liste-des-employes-pointant-apres-8h)\n",
    "- [Tendance Mensuelle des Absences](#tendance-mensuelle-des-absences)\n",
    "- [Top 5 des Employes avec le Plus d'Absences par Direction](#top-5-des-employes-avec-le-plus-dabsences-par-direction)\n",
    "- [Top 5 des Employes avec le Plus de Retards par Direction](#top-5-des-employes-avec-le-plus-de-retards-par-direction)\n",
    "- [Classement Graphique des Services avec le Plus d'Absences](#classement-graphique-des-services-avec-le-plus-dabsences)\n",
    "- [Classement Graphique des Directions avec le Plus d'Absences](#classement-graphique-des-directions-avec-le-plus-dabsences)\n",
    "- [Analyse des Retards](#analyse-des-retards)\n",
    "- [Analyse par Heure d'Entree et de Sortie](#analyse-par-heure-dentree-et-de-sortie)\n",
    "- [Conclusion](#conclusion)\n"
   ]
  },
  {
   "cell_type": "markdown",
   "metadata": {},
   "source": [
    "\n",
    "# Introduction\n",
    "\n",
    "Ce notebook presente une analyse des donnees de pointage des employes, en se concentrant sur les absences et les retards par service et par direction.\n",
    "L'objectif est de fournir une vue claire des services et directions les plus touches par ces problemes, avec des graphiques pour illustrer les classements.\n",
    "\n",
    "Utilisez le menu ci-dessus pour acceder rapidement aux sections."
   ]
  },
  {
   "cell_type": "markdown",
   "id": "358e3126",
   "metadata": {},
   "source": [
    "\n"
   ]
  },
  {
   "cell_type": "code",
   "execution_count": null,
   "metadata": {},
   "outputs": [],
   "source": [
    "import numpy as np\n",
    "\n",
    "import pandas as pd\n",
    "import matplotlib.pyplot as plt\n",
    "import seaborn as sns"
   ]
  },
  {
   "cell_type": "code",
   "execution_count": null,
   "metadata": {},
   "outputs": [],
   "source": [
    "\n",
    "demie_journée=6\n",
    "absence=0\n",
    "normal=8\n",
    "# chargement des donnees \n",
    "df=pd.read_csv('../datas/data.csv')\n",
    "\n",
    "# NETTOYAGE DES DONNEES \n",
    "\n",
    "# Les étapes suivantes ont été effectuées pour nettoyer les données :\n",
    "# 1. Suppression des colonnes inutiles.\n",
    "# 2. Nettoyage des valeurs dans la colonne 'Total présence'.\n",
    "# 3. Suppression des lignes sans nom et avec 'Holiday' dans la colonne 'Horaire/Incidence'.\n",
    "# 4. Traitement des colonnes d'entrée/sortie et conversion en format datetime.\n",
    "# 5. Calcul du temps de présence et ajout d'une colonne 'Type'.\n",
    "# Supprimer les colonnes 'Code', 'C.N.I.', 'pause' et toutes les colonnes commençant par 'Unnamed:'\n",
    "colonnes_a_supprimer = ['Code', 'C.N.I.', 'pause'] + [col for col in df.columns if 'Unnamed' in col]\n",
    "df.drop(columns=colonnes_a_supprimer, inplace=True)\n",
    "\n",
    "# Remplacer les valeurs invalides par NaN et convertir en type float\n",
    "df['Total présence'] = pd.to_numeric(df['Total présence'], errors='coerce')\n",
    "# Suppression des lignes où 'Nom' est vide\n",
    "df = df.dropna(subset=['Nom'])\n",
    "\n",
    "# Suppression des lignes où 'Horaire/Incidence' est 'Holiday'\n",
    "df = df[df['Horaire/Incidence'] != 'Holiday']\n",
    "# Remplacement des valeurs manquantes dans les colonnes 'Entrée' et 'Sortie'\n",
    "# Remplacement de 'Pointage manquant' par 0\n",
    "df.replace({'Pointage manquant': '00:00'}, inplace=True)\n",
    "\n",
    "# Conversion des colonnes en format datetime\n",
    "cols_to_convert = ['Entrée', 'Sortie', 'Entrée.1', 'Sortie.1', 'Entrée.2', 'Sortie.2']\n",
    "df[cols_to_convert] = df[cols_to_convert].apply(pd.to_datetime, format='%H:%M', errors='coerce')\n",
    "\n",
    "# Conversion de la colonne 'Date'\n",
    "df['Date'] = pd.to_datetime(df['Date'].str.split(' ').str[0], format='%d/%m/%Y')\n",
    "\n",
    "# Extraction des premières et dernières heures d'entrée/sortie\n",
    "# Extraction des premières et dernières heures d'entrée/sortie\n",
    "df['Entrée'] = df[['Entrée', 'Entrée.1', 'Entrée.2']].min(axis=1)\n",
    "df['Sortie'] = df[['Sortie', 'Sortie.1', 'Sortie.2']].max(axis=1)\n",
    "\n",
    "# Suppression des colonnes supplémentaires\n",
    "df = df.drop(columns=['Entrée.1', 'Sortie.1', 'Entrée.2', 'Sortie.2'])\n",
    "# Calcul du nombre d'heures passées au bureau\n",
    "df['Total présence'] = (df['Sortie'] - df['Entrée']).dt.total_seconds() / 3600\n",
    "df['Total présence'].fillna(0, inplace=True)  # Remplace les valeurs manquantes par 0\n",
    "# Création de la colonne 'Type'\n",
    "# Ajoute une colonne Type pour classifier les enregistrements en fonction du temps de présence.\n",
    "\n",
    "# Création de la colonne 'Type'\n",
    "df['Type'] = 'retard'  # Par défaut, tout est 'retard'\n",
    "\n",
    "# Mettre à jour les types en fonction de la colonne 'Total présence'\n",
    "df.loc[df['Total présence'] == absence, 'Type'] = 'absence'\n",
    "df.loc[df['Total présence'] < absence, 'Type'] = 'pointage manquant'\n",
    "df.loc[(df['Total présence'] >= demie_journée) & (df['Total présence'] < 8), 'Type'] = 'demie journée'\n",
    "df.loc[df['Total présence'] >= normal, 'Type'] = 'normal'\n",
    "\n"
   ]
  },
  {
   "cell_type": "code",
   "execution_count": null,
   "metadata": {},
   "outputs": [],
   "source": [
    "\n",
    "# chargement des donnees \n",
    "df1=pd.read_csv('../datas/data1.csv')\n",
    "\n",
    "# NETTOYAGE DES DONNEES \n",
    "\n",
    "# Les étapes suivantes ont été effectuées pour nettoyer les données :\n",
    "# 1. Suppression des colonnes inutiles.\n",
    "# 2. Nettoyage des valeurs dans la colonne 'Total présence'.\n",
    "# 3. Suppression des lignes sans nom et avec 'Holiday' dans la colonne 'Horaire/Incidence'.\n",
    "# 4. Traitement des colonnes d'entrée/sortie et conversion en format datetime.\n",
    "# 5. Calcul du temps de présence et ajout d'une colonne 'Type'.\n",
    "# Supprimer les colonnes 'Code', 'C.N.I.', 'pause' et toutes les colonnes commençant par 'Unnamed:'\n",
    "colonnes_a_supprimer = ['Code', 'C.N.I.', 'pause'] + [col for col in df1.columns if 'Unnamed' in col]\n",
    "df1.drop(columns=colonnes_a_supprimer, inplace=True)\n",
    "\n",
    "# Remplacer les valeurs invalides par NaN et convertir en type float\n",
    "df1['Total présence'] = pd.to_numeric(df1['Total présence'], errors='coerce')\n",
    "# Suppression des lignes où 'Nom' est vide\n",
    "df1 = df1.dropna(subset=['Nom'])\n",
    "\n",
    "# Suppression des lignes où 'Horaire/Incidence' est 'Holiday'\n",
    "df1 = df1[df1['Horaire/Incidence'] != 'Holiday']\n",
    "# Remplacement des valeurs manquantes dans les colonnes 'Entrée' et 'Sortie'\n",
    "# Remplacement de 'Pointage manquant' par 0\n",
    "df1.replace({'Pointage manquant': '00:00'}, inplace=True)\n",
    "\n",
    "# Conversion des colonnes en format datetime\n",
    "cols_to_convert = ['Entrée', 'Sortie', 'Entrée.1', 'Sortie.1', 'Entrée.2', 'Sortie.2']\n",
    "df1[cols_to_convert] = df1[cols_to_convert].apply(pd.to_datetime, format='%H:%M', errors='coerce')\n",
    "\n",
    "# Conversion de la colonne 'Date'\n",
    "df1['Date'] = pd.to_datetime(df1['Date'].str.split(' ').str[0], format='%d/%m/%Y')\n",
    "\n",
    "# Extraction des premières et dernières heures d'entrée/sortie\n",
    "# Extraction des premières et dernières heures d'entrée/sortie\n",
    "df1['Entrée'] = df1[['Entrée', 'Entrée.1', 'Entrée.2']].min(axis=1)\n",
    "df1['Sortie'] = df1[['Sortie', 'Sortie.1', 'Sortie.2']].max(axis=1)\n",
    "\n",
    "# Suppression des colonnes supplémentaires\n",
    "df1 = df1.drop(columns=['Entrée.1', 'Sortie.1', 'Entrée.2', 'Sortie.2'])\n",
    "# Calcul du nombre d'heures passées au bureau\n",
    "df1['Total présence'] = (df1['Sortie'] - df1['Entrée']).dt.total_seconds() / 3600\n",
    "df1['Total présence'].fillna(0, inplace=True)  # Remplace les valeurs manquantes par 0\n",
    "# Création de la colonne 'Type'\n",
    "# Ajoute une colonne Type pour classifier les enregistrements en fonction du temps de présence.\n",
    "\n",
    "# Création de la colonne 'Type'\n",
    "df1['Type'] = 'retard'  # Par défaut, tout est 'retard'\n",
    "\n",
    "# Mettre à jour les types en fonction de la colonne 'Total présence'\n",
    "df1.loc[df1['Total présence'] == absence, 'Type'] = 'absence'\n",
    "df1.loc[df1['Total présence'] < absence, 'Type'] = 'Pointage manquant'\n",
    "df1.loc[(df1['Total présence'] >= demie_journée) & (df1['Total présence'] < 8), 'Type'] = 'demie journée'\n",
    "df1.loc[df1['Total présence'] >= normal, 'Type'] = 'normal'\n",
    "\n"
   ]
  },
  {
   "cell_type": "code",
   "execution_count": null,
   "metadata": {},
   "outputs": [],
   "source": [
    "# on concatene les 2 dataset\n",
    "# Concaténation horizontale\n",
    "df = pd.concat([df, df1], axis=0, ignore_index=True)\n",
    "# Remplacer \"demie journée\" par \"partie tôt\"\n",
    "df['Type'] = df['Type'].replace('demie journée', 'partie tôt')\n",
    "\n",
    "# Définir le type \"retard\" pour les personnes qui pointent après 8h\n",
    "df['Type'] = np.where(df['Entrée'].dt.hour > 8, 'retard', df['Type'])\n",
    "\n",
    "# Définir \"partie tôt\" pour les personnes qui quittent avant 17h\n",
    "df['Type'] = np.where(df['Sortie'].dt.hour < 17, 'partie tôt', df['Type'])\n",
    "\n",
    "noms_a_supprimer = [\n",
    "    \"Amadou Legrand DIOP\", \"Pape Waly DIOUF\", \"Mamadou Nana SARR\", \"Diegane DIAGNE\",\n",
    "    \"El Hadji Medoune DIOUF\", \"Ndéye Bineta NDIAYE\", \"Amath SALL\", \"Aminata SOW\", \n",
    "    \"Thioro MBAYE SALL\", \"Madogal THIOUNE\", \"issa CISSE\", \"Yankhoba NDIAYE\", \n",
    "    \"Aboune DIATTA\", \"Yaye Nogueye KEITA\", \"Ibrahima DIOUF\", \"Louis Benoit MBAYE\", \n",
    "    \"Ibrahima NDIAYE\", \"Ndeye fatou FALL\", \"Mbaye DIENG\", \"Serigne Mansour FAYE\"\n",
    "]\n",
    "noms_a_supprimer = [nom.lower() for nom in noms_a_supprimer]\n",
    "\n",
    "# Convertir les noms du DataFrame en minuscules pour la comparaison\n",
    "df['Nom_lower'] = df['Nom'].str.lower()\n",
    "\n",
    "# Supprimer les lignes où les noms figurent dans la liste des noms à supprimer\n",
    "df = df[~df['Nom_lower'].isin(noms_a_supprimer)]\n",
    "\n",
    "# Réinitialiser l'index après suppression et supprimer la colonne temporaire\n",
    "df.reset_index(drop=True, inplace=True)\n",
    "df.drop(columns=['Nom_lower'], inplace=True)\n",
    "\n",
    "\n",
    "\n",
    "\n",
    "\n"
   ]
  },
  {
   "cell_type": "code",
   "execution_count": null,
   "metadata": {},
   "outputs": [],
   "source": [
    "##On enregistre le dataset propre \n",
    "# df.to_csv('../datas/cleanData.csv', index=False)\n",
    "\n"
   ]
  },
  {
   "cell_type": "markdown",
   "metadata": {},
   "source": [
    "# Rapport d'Analyse des Donnees de Pointage\n",
    "## Introduction\n",
    "Nous allons analyser un dataset contenant des informations sur la presence des employes d'une organisation. Ce df comprend 2679 enregistrements et 13 colonnes avec des informations telles que le nom de l'employe, son service, sa direction, les heures d'entree et de sortie, ainsi que la duree de presence.\n",
    "\n"
   ]
  },
  {
   "cell_type": "code",
   "execution_count": null,
   "metadata": {},
   "outputs": [],
   "source": [
    "\n",
    "\n",
    "# ## Intervalle de Dates dans le df\n",
    "start_date = df['Date'].min()\n",
    "end_date = df['Date'].max()\n",
    "print(f\"Le dataset couvre la période du {start_date} au {end_date}.\")\n",
    "\n",
    "\n"
   ]
  },
  {
   "cell_type": "markdown",
   "id": "19e7250b",
   "metadata": {},
   "source": [
    "\n",
    "## Analyse des Absences\n",
    "\n",
    "Cette section presente les resultats de l'analyse des absences par service et par direction.\n",
    "Les graphiques montrent les services et les directions avec le plus grand nombre d'absences.\n"
   ]
  },
  {
   "cell_type": "code",
   "execution_count": null,
   "metadata": {},
   "outputs": [],
   "source": [
    "# Supprimer les lignes où df['SERVICE:'] est égal à 'Cabinet'\n",
    "df = df.loc[df['SERVICE:'] != 'Cabinet']\n"
   ]
  },
  {
   "cell_type": "markdown",
   "metadata": {},
   "source": [
    "Cette periode nous permettra d'analyser les comportements de presence sur une semaine de travail"
   ]
  },
  {
   "cell_type": "markdown",
   "metadata": {},
   "source": [
    "## Repartition Globale des Types de Journee\n",
    "Cette section explore la repartition generale des types de journee, incluant les journees normales, les retards, les demi-journees, et les absences. Chaque type est represente par un graphique a barres, indiquant clairement le nombre d'employes pour chaque categorie.\n",
    "\n"
   ]
  },
  {
   "cell_type": "code",
   "execution_count": null,
   "metadata": {},
   "outputs": [],
   "source": [
    "# ## Analyse Globale des Types de Journée\n",
    "plt.figure(figsize=(10, 6))\n",
    "type_counts = df['Type'].value_counts()\n",
    "sns.barplot(x=type_counts.index, y=type_counts.values, palette='Blues_d')\n",
    "plt.title(\"Répartition des Types de Journée\")\n",
    "plt.xlabel(\"Type de Journée\")\n",
    "plt.ylabel(\"Nombre d'Employés\")\n",
    "for i in range(len(type_counts)):\n",
    "    plt.text(i, type_counts.values[i] + 50, str(type_counts.values[i]), ha='center')\n",
    "plt.show()"
   ]
  },
  {
   "cell_type": "markdown",
   "id": "553d308d",
   "metadata": {},
   "source": [
    "\n",
    "## Analyse des Retards\n",
    "\n",
    "Cette section presente les resultats de l'analyse des retards par service et par direction.\n",
    "Les graphiques montrent les services et les directions avec le plus grand nombre de retards.\n"
   ]
  },
  {
   "cell_type": "markdown",
   "metadata": {},
   "source": [
    "## Tendance Mensuelle des Presences et Retards\n",
    "\n",
    "Ce graphique montre l'evolution des pointages par mois pour les differents types (presence normale, retard, absence, etc.). Cela nous permet d'identifier les mois ou il y a eu des pics d'absences ou de retards.\n",
    "\n"
   ]
  },
  {
   "cell_type": "code",
   "execution_count": null,
   "metadata": {},
   "outputs": [],
   "source": [
    "# Group by month and calculate trends\n",
    "df['Month'] = df['Date'].dt.to_period('M')\n",
    "\n",
    "# Calculate monthly counts for 'Type' categories\n",
    "monthly_trends = df.groupby(['Month', 'Type']).size().unstack(fill_value=0)\n",
    "\n",
    "# Plotting the trends\n",
    "plt.figure(figsize=(12, 7))\n",
    "ax = monthly_trends.plot(kind='line', marker='o', figsize=(12, 7), linewidth=2)\n",
    "\n",
    "# Add title and labels\n",
    "plt.title('Tendance Mensuelle des Présences et Retards', fontsize=16)\n",
    "plt.xlabel('Mois', fontsize=14)\n",
    "plt.ylabel('Nombre d\\'Enregistrements', fontsize=14)\n",
    "\n",
    "# Add a grid for better readability\n",
    "plt.grid(True)\n",
    "\n",
    "# Annotate each point with the exact value\n",
    "for line in ax.get_lines():\n",
    "    for x, y in zip(line.get_xdata(), line.get_ydata()):\n",
    "        label = f\"{int(y)}\"\n",
    "        if y > 0:  # Only annotate points with values greater than 0\n",
    "            ax.annotate(label, (x, y), textcoords=\"offset points\", xytext=(0, 5), ha='center', fontsize=10)\n",
    "\n",
    "# Show the legend outside the plot\n",
    "ax.legend(title=\"Type\", bbox_to_anchor=(1.05, 1), loc='upper left')\n",
    "\n",
    "# Adjust layout to ensure the legend does not overlap\n",
    "plt.tight_layout()\n",
    "\n",
    "# Show the plot\n",
    "plt.show()\n",
    "\n"
   ]
  },
  {
   "cell_type": "markdown",
   "metadata": {},
   "source": [
    "## Classement Complet des Employes Base sur les Retards\n",
    "\n",
    "Dans cette section, nous classons tous les employes en fonction du nombre de retards accumules. Ce classement affiche le nom de l'employe, sa direction, son service, ainsi que le nombre total de retards.\n"
   ]
  },
  {
   "cell_type": "code",
   "execution_count": null,
   "metadata": {},
   "outputs": [],
   "source": [
    "# Filter the data for 'retard' only\n",
    "retard_df = df[df['Type'] == 'retard']\n",
    "\n",
    "# Group by employee name, direction, and service, and count occurrences of 'retard'\n",
    "ranking_retard = retard_df.groupby(['Nom', 'DIRECTION:', 'SERVICE:']).size().reset_index(name='Total_Retard')\n",
    "\n",
    "# Sort the ranking by total retards in descending order\n",
    "ranking_retard_sorted = ranking_retard.sort_values(by='Total_Retard', ascending=False)\n",
    "\n",
    "# Display the full ranking for retards\n",
    "pd.set_option('display.max_rows', None)  # Display all rows\n",
    "pd.set_option('display.max_columns', None)  # Display all columns\n",
    "\n",
    "# Show the sorted ranking for retards\n",
    "ranking_retard_sorted.style.hide(axis=False)\n"
   ]
  },
  {
   "cell_type": "markdown",
   "metadata": {},
   "source": [
    "## Classement Complet des Employes Base sur les Absences\n",
    "\n",
    "Cette section presente le classement des employes en fonction du nombre d'absences. Pour chaque employe, vous trouverez son nom, sa direction, son service, ainsi que le nombre total d'absences enregistrees.\n"
   ]
  },
  {
   "cell_type": "code",
   "execution_count": null,
   "metadata": {},
   "outputs": [],
   "source": [
    "# Filter the data for 'absence' only\n",
    "absence_df = df[df['Type'] == 'absence']\n",
    "\n",
    "# Group by employee name, direction, and service, and count occurrences of 'absence'\n",
    "ranking_absence = absence_df.groupby(['Nom', 'DIRECTION:', 'SERVICE:']).size().reset_index(name='Total_Absence')\n",
    "\n",
    "# Sort the ranking by total absences in descending order\n",
    "ranking_absence_sorted = ranking_absence.sort_values(by='Total_Absence', ascending=False)\n",
    "\n",
    "# Display the full ranking for absences\n",
    "pd.set_option('display.max_rows', None)  # Display all rows\n",
    "pd.set_option('display.max_columns', None)  # Display all columns\n",
    "\n",
    "# Show the sorted ranking for absences\n",
    "ranking_absence_sorted.style.hide(axis=False)\n"
   ]
  },
  {
   "cell_type": "markdown",
   "metadata": {},
   "source": [
    "Les classements ci-dessus vous montrent, dans un ordre decroissant, les employes avec le plus grand nombre de retards et d'absences. Chaque tableau presente les employes avec leur nom, leur direction, leur service, et le nombre total de retards ou d'absences.\n"
   ]
  },
  {
   "cell_type": "markdown",
   "metadata": {},
   "source": [
    "## Liste des Employes Pointant Apres 8h\n",
    "\n",
    "Cette section liste tous les employes ayant pointe apres 8 heures du matin. Nous calculons egalement le pourcentage d'employes qui arrivent apres cette heure, ce qui peut indiquer des habitudes de retard generalisees.\n"
   ]
  },
  {
   "cell_type": "code",
   "execution_count": null,
   "metadata": {},
   "outputs": [],
   "source": [
    "# Ensure the 'Entrée' column is in datetime format, if not already\n",
    "df['Entrée'] = pd.to_datetime(df['Entrée'], format='%H:%M', errors='coerce')\n",
    "\n",
    "# Filter employees who check in after 8 AM\n",
    "df['After_8'] = df['Entrée'].apply(lambda x: x.hour >= 8 if pd.notnull(x) else False)\n",
    "\n",
    "# Group by employee name, direction, and service for those checking in after 8 AM\n",
    "late_checkins = df[df['After_8']].groupby(['Nom', 'DIRECTION:', 'SERVICE:']).size().reset_index(name='Total_Checkins_After_8')\n",
    "\n",
    "# Sort by the number of late check-ins in descending order\n",
    "late_checkins_sorted = late_checkins.sort_values(by='Total_Checkins_After_8', ascending=False)\n",
    "\n",
    "# Calculate the percentage of employees checking in after 8 AM\n",
    "total_employees = df['Nom'].nunique()\n",
    "total_late_employees = late_checkins_sorted['Nom'].nunique()\n",
    "percentage_late = (total_late_employees / total_employees) * 100\n",
    "\n",
    "# Display the full list and percentage\n",
    "\n",
    "pd.set_option('display.max_rows', None)  # Display all rows\n",
    "pd.set_option('display.max_columns', None)  # Display all columns\n",
    "\n",
    "# Display results\n",
    "print(f\"\\nPourcentage d'employés qui se présentent après 8 heures du matin : {percentage_late:.2f}%\")\n",
    "print(\"Les employés qui se présentent après 8 heures du matin :\")\n",
    "\n",
    "late_checkins_sorted.style.hide(axis=False)\n",
    "\n"
   ]
  },
  {
   "cell_type": "markdown",
   "metadata": {},
   "source": [
    "## Tendance Mensuelle des Absences\n",
    "\n",
    "Le graphique ci-dessous montre la tendance mensuelle des absences, permettant de visualiser les mois ou les absences ont ete particulierement elevees.\n",
    "\n",
    "\n"
   ]
  },
  {
   "cell_type": "code",
   "execution_count": null,
   "metadata": {},
   "outputs": [],
   "source": [
    "# Absence trend over months\n",
    "absence_trends = df[df['Type'] == 'absence'].groupby('Month').size()\n",
    "\n",
    "# Plot absence trends\n",
    "plt.figure(figsize=(10, 6))\n",
    "absence_trends.plot(kind='bar', color='red')\n",
    "plt.title('Tendance Mensuelle des Absences')\n",
    "plt.xlabel('Mois')\n",
    "plt.ylabel('Nombre d\\'Absences')\n",
    "plt.show()"
   ]
  },
  {
   "cell_type": "markdown",
   "metadata": {},
   "source": [
    "## Top 10 des Employes avec le Plus d'Absences par Direction\n",
    "\n",
    "Dans cette analyse, nous avons classe les 10 employes ayant le plus d'absences pour chaque direction. Cela permet d'identifier les employes qui ont le plus manque de jours de travail, en se basant sur le nombre d'absences enregistrees.\n"
   ]
  },
  {
   "cell_type": "code",
   "execution_count": null,
   "metadata": {},
   "outputs": [],
   "source": [
    "# ## Top 10 par Direction (Les Employés avec le Plus d'Absences)\n",
    "directions = df['DIRECTION:'].unique()\n",
    "\n",
    "for direction in directions:\n",
    "    # Assuming 'Type' contains 'absence' to indicate an absence\n",
    "    # Group by employee and count the number of absences\n",
    "    absences_per_employee = df[(df['DIRECTION:'] == direction) & (df['Type'] == 'absence')].groupby('Nom').size()\n",
    "    \n",
    "    # Get the top 5 employees with the most absences\n",
    "    top_5_absences = absences_per_employee.nlargest(10)\n",
    "    \n",
    "    # Plotting the results for most absences\n",
    "    plt.figure(figsize=(10, 6))\n",
    "    top_5_absences.plot(kind='bar', color='orange')\n",
    "    plt.title(f\"Top 10 des Employés avec le Plus d'Absences ({direction})\")\n",
    "    plt.xlabel(\"Employé\")\n",
    "    plt.ylabel(\"Nombre d'Absences\")\n",
    "    \n",
    "    # Annotating the bars with the corresponding values\n",
    "    for idx, value in enumerate(top_5_absences):\n",
    "        plt.text(idx, value, int(value), ha='center', va='bottom', fontsize=12)\n",
    "    \n",
    "    plt.tight_layout()\n",
    "    plt.show()\n"
   ]
  },
  {
   "cell_type": "markdown",
   "metadata": {},
   "source": [
    "## Top 10 des Employes avec le Plus de Retards par Direction\n",
    "\n",
    "Dans cette analyse, nous avons classe les dix employes ayant le plus de retards pour chaque direction. Cela permet d'identifier les employes qui arrivent le plus souvent en retard au travail, en se basant sur le nombre de retards enregistres.\n"
   ]
  },
  {
   "cell_type": "code",
   "execution_count": null,
   "metadata": {},
   "outputs": [],
   "source": [
    "# ## Top 10 par Direction (Les Employés avec le Plus de Retards)\n",
    "directions = df['DIRECTION:'].unique()\n",
    "\n",
    "for direction in directions:\n",
    "    # Assuming 'Type' contains 'retard' to indicate lateness\n",
    "    # Group by employee and count the number of retards\n",
    "    retards_per_employee = df[(df['DIRECTION:'] == direction) & (df['Type'] == 'retard')].groupby('Nom').size()\n",
    "    \n",
    "    # Get the top 5 employees with the most retards\n",
    "    top_5_retards = retards_per_employee.nlargest(10)\n",
    "    \n",
    "    # Plotting the results for most retards\n",
    "    plt.figure(figsize=(10, 6))\n",
    "    top_5_retards.plot(kind='bar', color='red')\n",
    "    plt.title(f\"Top 10 des Employés avec le Plus de Retards ({direction})\")\n",
    "    plt.xlabel(\"Employé\")\n",
    "    plt.ylabel(\"Nombre de Retards\")\n",
    "    \n",
    "    # Annotating the bars with the corresponding values\n",
    "    for idx, value in enumerate(top_5_retards):\n",
    "        plt.text(idx, value, int(value), ha='center', va='bottom', fontsize=12)\n",
    "    \n",
    "    plt.tight_layout()\n",
    "    plt.show()\n"
   ]
  },
  {
   "cell_type": "markdown",
   "metadata": {},
   "source": [
    "Cette courbe d'evolution montre comment la duree totale de presence des employes change chaque jour. Elle peut reveler des tendances telles que des presences plus longues ou plus courtes selon les jours de la semaine."
   ]
  },
  {
   "cell_type": "markdown",
   "metadata": {},
   "source": [
    "## Classement Graphique des Services avec le Plus d'Absences\n",
    "\n",
    "Ce graphique montre les dix services ayant accumule le plus grand nombre d'absences. Cela permet d'identifier les services les plus touches par l'absenteisme.\n"
   ]
  },
  {
   "cell_type": "code",
   "execution_count": null,
   "metadata": {},
   "outputs": [],
   "source": [
    "# ## Classement des Services et Directions (Absences)\n",
    "# Grouping by service and direction, and counting absences\n",
    "absences_by_service = df[df['Type'] == 'absence'].groupby('SERVICE:').size()\n",
    "absences_by_direction = df[df['Type'] == 'absence'].groupby('DIRECTION:').size()\n",
    "\n",
    "# Top 10 services with the most absences\n",
    "top_10_absences_services = absences_by_service.nlargest(10)\n",
    "\n",
    "# Plotting the top 10 services with the most absences\n",
    "plt.figure(figsize=(10, 6))\n",
    "top_10_absences_services.plot(kind='bar', color='orange')\n",
    "plt.title(\"Top 10 des Services avec le Plus d'Absences\")\n",
    "plt.xlabel(\"Service\")\n",
    "plt.ylabel(\"Nombre d'Absences\")\n",
    "\n",
    "# Annotating the bars with the corresponding values\n",
    "for idx, value in enumerate(top_10_absences_services):\n",
    "    plt.text(idx, value, int(value), ha='center', va='bottom', fontsize=12)\n",
    "\n",
    "plt.tight_layout()\n",
    "plt.show()\n",
    "\n"
   ]
  },
  {
   "cell_type": "markdown",
   "metadata": {},
   "source": [
    "\n",
    "## Classement Graphique des Directions avec le Plus d'Absences\n",
    "\n",
    "De meme, ce graphique presente les dix directions ayant accumule le plus d'absences, offrant une vue d'ensemble des directions les plus touchees par l'absenteisme."
   ]
  },
  {
   "cell_type": "code",
   "execution_count": null,
   "metadata": {},
   "outputs": [],
   "source": [
    "# Top 10 directions with the most absences\n",
    "top_10_absences_directions = absences_by_direction.nlargest(10)\n",
    "\n",
    "# Plotting the top 10 directions with the most absences\n",
    "plt.figure(figsize=(10, 6))\n",
    "top_10_absences_directions.plot(kind='bar', color='orange')\n",
    "plt.title(\"Top 10 des Directions avec le Plus d'Absences\")\n",
    "plt.xlabel(\"Direction\")\n",
    "plt.ylabel(\"Nombre d'Absences\")\n",
    "\n",
    "# Annotating the bars with the corresponding values\n",
    "for idx, value in enumerate(top_10_absences_directions):\n",
    "    plt.text(idx, value, int(value), ha='center', va='bottom', fontsize=12)\n",
    "\n",
    "plt.tight_layout()\n",
    "plt.show()\n"
   ]
  },
  {
   "cell_type": "markdown",
   "metadata": {},
   "source": [
    "## Analyse des Retards\n",
    "Une analyse specifique des retards est realisee par service pour identifier les services les plus touches.\n"
   ]
  },
  {
   "cell_type": "code",
   "execution_count": null,
   "metadata": {},
   "outputs": [],
   "source": [
    "\n",
    "# ## Analyse des Retards\n",
    "# Répartition des retards par service\n",
    "plt.figure(figsize=(14, 7))\n",
    "sns.countplot(data=df[df['Type'] == 'retard'], x='SERVICE:')\n",
    "plt.title(\"Répartition des Retards par Service\")\n",
    "plt.xlabel(\"Service\")\n",
    "plt.ylabel(\"Nombre de Retards\")\n",
    "plt.xticks(rotation=90)\n",
    "plt.show()"
   ]
  },
  {
   "cell_type": "markdown",
   "metadata": {},
   "source": [
    "- **Analyse des Types de Journee par Jour de la Semaine** : Cette analyse examine comment les types de journee varient en fonction du jour de la semaine.\n"
   ]
  },
  {
   "cell_type": "code",
   "execution_count": null,
   "metadata": {},
   "outputs": [],
   "source": [
    "# Analyse des absences par jour de la semaine\n",
    "df['Day_of_Week'] = df['Date'].dt.day_name()\n",
    "plt.figure(figsize=(10, 6))\n",
    "sns.countplot(data=df[df['Type'] == 'absence'], x='Day_of_Week', order=['Monday', 'Tuesday', 'Wednesday', 'Thursday', 'Friday'])\n",
    "plt.title(\"Répartition des Absences par Jour de la Semaine\")\n",
    "plt.xlabel(\"Jour de la Semaine\")\n",
    "plt.ylabel(\"Nombre d'Absences\")\n",
    "plt.show()"
   ]
  },
  {
   "cell_type": "markdown",
   "metadata": {},
   "source": [
    "**Temps de Presence Moyen par Jour de la Semaine** : Ce graphique montre les jours ou les employes sont les plus presents au bureau.\n"
   ]
  },
  {
   "cell_type": "code",
   "execution_count": null,
   "metadata": {},
   "outputs": [],
   "source": [
    "# Analyse de la présence moyenne par jour de la semaine\n",
    "avg_presence_by_day = df.groupby('Day_of_Week')['Total présence'].mean().reindex(['Monday', 'Tuesday', 'Wednesday', 'Thursday', 'Friday'])\n",
    "plt.figure(figsize=(10, 6))\n",
    "sns.barplot(x=avg_presence_by_day.index, y=avg_presence_by_day.values, palette='Pastel1')\n",
    "plt.title(\"Temps de Présence Moyen par Jour de la Semaine\")\n",
    "plt.xlabel(\"Jour de la Semaine\")\n",
    "plt.ylabel(\"Heures Moyennes de Présence\")\n",
    "for i in range(len(avg_presence_by_day)):\n",
    "    plt.text(i, avg_presence_by_day.values[i] + 0.1, str(round(avg_presence_by_day.values[i], 2)), ha='center')\n",
    "plt.show()"
   ]
  },
  {
   "cell_type": "code",
   "execution_count": null,
   "metadata": {},
   "outputs": [],
   "source": [
    "# Répartition des types de journée par direction\n",
    "sns.countplot(data=df, x='Type', hue='DIRECTION:')\n",
    "plt.title(\"Répartition des types de journée par direction\")\n",
    "plt.show()\n"
   ]
  },
  {
   "cell_type": "markdown",
   "metadata": {},
   "source": [
    "## Analyse par Heure d'Entree et de Sortie\n",
    "Explorer les heures d'entree et de sortie pour voir s'il y a des pics specifiques, ce qui pourrait indiquer des periodes de pointe pour les arrivees ou les departs."
   ]
  },
  {
   "cell_type": "code",
   "execution_count": null,
   "metadata": {},
   "outputs": [],
   "source": [
    "sns.histplot(df['Entrée'].dt.hour, kde=True, bins=24)\n",
    "plt.title('Distribution des Heures d\\'Entrée')\n",
    "plt.xlabel('Heure')\n",
    "plt.ylabel('Fréquence')\n",
    "plt.show()\n",
    "\n",
    "sns.histplot(df['Sortie'].dt.hour, kde=True, bins=24)\n",
    "plt.title('Distribution des Heures de Sortie')\n",
    "plt.xlabel('Heure')\n",
    "plt.ylabel('Fréquence')\n",
    "plt.show()\n"
   ]
  },
  {
   "cell_type": "markdown",
   "metadata": {},
   "source": [
    "## Conclusion\n",
    "Cette analyse detaillee du dataset de presence des employes permet de mettre en lumiere plusieurs aspects importants :\n",
    "\n",
    "- Les types d'incidents dominants, comme les retards ou les absences.\n",
    "- L'evolution quotidienne de la presence des employes, qui peut montrer des tendances utiles pour ajuster les horaires de travail.\n",
    "- Les employes les plus presents globalement et au sein de chaque direction, offrant un apercu des comportements exemplaires.\n",
    "- Les retards et les absences, analyses en detail pour cibler des jours ou des periodes specifiques necessitant des interventions.\n",
    "\n",
    "Ces analyses peuvent guider des decisions manageriales eclairees, comme l'ajustement des horaires, la mise en place de mesures incitatives, ou le renforcement des politiques de ponctualite.\n",
    "\n",
    "Les visualisations proposees permettent de rendre les donnees accessibles a un public non technique, facilitant ainsi la comprehension et l'appropriation des resultats."
   ]
  },
  {
   "cell_type": "markdown",
   "metadata": {},
   "source": []
  }
 ],
 "metadata": {
  "kernelspec": {
   "display_name": "Python 3 (ipykernel)",
   "language": "python",
   "name": "python3"
  },
  "language_info": {
   "codemirror_mode": {
    "name": "ipython",
    "version": 3
   },
   "file_extension": ".py",
   "mimetype": "text/x-python",
   "name": "python",
   "nbconvert_exporter": "python",
   "pygments_lexer": "ipython3",
   "version": "3.9.18"
  }
 },
 "nbformat": 4,
 "nbformat_minor": 2
}
